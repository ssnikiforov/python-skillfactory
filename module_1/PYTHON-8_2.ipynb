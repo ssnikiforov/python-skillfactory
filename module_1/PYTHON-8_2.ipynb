{
 "cells": [
  {
   "cell_type": "code",
   "execution_count": 1,
   "metadata": {
    "collapsed": true
   },
   "outputs": [
    {
     "data": {
      "text/plain": "     imdb_id     budget     revenue      original_title  \\\n0  tt0369610  150000000  1513528810      Jurassic World   \n1  tt1392190  150000000   378436354  Mad Max: Fury Road   \n2  tt2908446  110000000   295238201           Insurgent   \n\n                                                cast          director  \\\n0  Chris Pratt|Bryce Dallas Howard|Irrfan Khan|Vi...   Colin Trevorrow   \n1  Tom Hardy|Charlize Theron|Hugh Keays-Byrne|Nic...     George Miller   \n2  Shailene Woodley|Theo James|Kate Winslet|Ansel...  Robert Schwentke   \n\n                      tagline  \\\n0           The park is open.   \n1          What a Lovely Day.   \n2  One Choice Can Destroy You   \n\n                                            overview  runtime  \\\n0  Twenty-two years after the events of Jurassic ...      124   \n1  An apocalyptic story set in the furthest reach...      120   \n2  Beatrice Prior must confront her inner demons ...      119   \n\n                                      genres  \\\n0  Action|Adventure|Science Fiction|Thriller   \n1  Action|Adventure|Science Fiction|Thriller   \n2         Adventure|Science Fiction|Thriller   \n\n                                production_companies release_date  \\\n0  Universal Studios|Amblin Entertainment|Legenda...     6/9/2015   \n1  Village Roadshow Pictures|Kennedy Miller Produ...    5/13/2015   \n2  Summit Entertainment|Mandeville Films|Red Wago...    3/18/2015   \n\n   vote_average  release_year  \n0           6.5          2015  \n1           7.1          2015  \n2           6.3          2015  ",
      "text/html": "<div>\n<style scoped>\n    .dataframe tbody tr th:only-of-type {\n        vertical-align: middle;\n    }\n\n    .dataframe tbody tr th {\n        vertical-align: top;\n    }\n\n    .dataframe thead th {\n        text-align: right;\n    }\n</style>\n<table border=\"1\" class=\"dataframe\">\n  <thead>\n    <tr style=\"text-align: right;\">\n      <th></th>\n      <th>imdb_id</th>\n      <th>budget</th>\n      <th>revenue</th>\n      <th>original_title</th>\n      <th>cast</th>\n      <th>director</th>\n      <th>tagline</th>\n      <th>overview</th>\n      <th>runtime</th>\n      <th>genres</th>\n      <th>production_companies</th>\n      <th>release_date</th>\n      <th>vote_average</th>\n      <th>release_year</th>\n    </tr>\n  </thead>\n  <tbody>\n    <tr>\n      <th>0</th>\n      <td>tt0369610</td>\n      <td>150000000</td>\n      <td>1513528810</td>\n      <td>Jurassic World</td>\n      <td>Chris Pratt|Bryce Dallas Howard|Irrfan Khan|Vi...</td>\n      <td>Colin Trevorrow</td>\n      <td>The park is open.</td>\n      <td>Twenty-two years after the events of Jurassic ...</td>\n      <td>124</td>\n      <td>Action|Adventure|Science Fiction|Thriller</td>\n      <td>Universal Studios|Amblin Entertainment|Legenda...</td>\n      <td>6/9/2015</td>\n      <td>6.5</td>\n      <td>2015</td>\n    </tr>\n    <tr>\n      <th>1</th>\n      <td>tt1392190</td>\n      <td>150000000</td>\n      <td>378436354</td>\n      <td>Mad Max: Fury Road</td>\n      <td>Tom Hardy|Charlize Theron|Hugh Keays-Byrne|Nic...</td>\n      <td>George Miller</td>\n      <td>What a Lovely Day.</td>\n      <td>An apocalyptic story set in the furthest reach...</td>\n      <td>120</td>\n      <td>Action|Adventure|Science Fiction|Thriller</td>\n      <td>Village Roadshow Pictures|Kennedy Miller Produ...</td>\n      <td>5/13/2015</td>\n      <td>7.1</td>\n      <td>2015</td>\n    </tr>\n    <tr>\n      <th>2</th>\n      <td>tt2908446</td>\n      <td>110000000</td>\n      <td>295238201</td>\n      <td>Insurgent</td>\n      <td>Shailene Woodley|Theo James|Kate Winslet|Ansel...</td>\n      <td>Robert Schwentke</td>\n      <td>One Choice Can Destroy You</td>\n      <td>Beatrice Prior must confront her inner demons ...</td>\n      <td>119</td>\n      <td>Adventure|Science Fiction|Thriller</td>\n      <td>Summit Entertainment|Mandeville Films|Red Wago...</td>\n      <td>3/18/2015</td>\n      <td>6.3</td>\n      <td>2015</td>\n    </tr>\n  </tbody>\n</table>\n</div>"
     },
     "metadata": {},
     "output_type": "display_data"
    },
    {
     "name": "stdout",
     "output_type": "stream",
     "text": [
      "<class 'pandas.core.frame.DataFrame'>\n",
      "RangeIndex: 1889 entries, 0 to 1888\n",
      "Data columns (total 14 columns):\n",
      " #   Column                Non-Null Count  Dtype  \n",
      "---  ------                --------------  -----  \n",
      " 0   imdb_id               1889 non-null   object \n",
      " 1   budget                1889 non-null   int64  \n",
      " 2   revenue               1889 non-null   int64  \n",
      " 3   original_title        1889 non-null   object \n",
      " 4   cast                  1889 non-null   object \n",
      " 5   director              1889 non-null   object \n",
      " 6   tagline               1889 non-null   object \n",
      " 7   overview              1889 non-null   object \n",
      " 8   runtime               1889 non-null   int64  \n",
      " 9   genres                1889 non-null   object \n",
      " 10  production_companies  1889 non-null   object \n",
      " 11  release_date          1889 non-null   object \n",
      " 12  vote_average          1889 non-null   float64\n",
      " 13  release_year          1889 non-null   int64  \n",
      "dtypes: float64(1), int64(4), object(9)\n",
      "memory usage: 206.7+ KB\n"
     ]
    }
   ],
   "source": [
    "import pandas as pd\n",
    "from IPython.core.display import display\n",
    "df = pd.read_csv('./files/unit_1/python-8-movies/movie_bd_v5.csv')\n",
    "display(df.head(3))\n",
    "df.info()"
   ]
  },
  {
   "cell_type": "code",
   "execution_count": 38,
   "outputs": [
    {
     "data": {
      "text/plain": "'Pirates of the Caribbean: On Stranger Tides'"
     },
     "execution_count": 38,
     "metadata": {},
     "output_type": "execute_result"
    }
   ],
   "source": [
    "# Вопрос 1. У какого фильма из списка самый большой бюджет?\n",
    "df.sort_values(by='budget', ascending=False).iloc[0].original_title"
   ],
   "metadata": {
    "collapsed": false,
    "pycharm": {
     "name": "#%%\n"
    }
   }
  },
  {
   "cell_type": "code",
   "execution_count": 41,
   "outputs": [
    {
     "data": {
      "text/plain": "'Gods and Generals'"
     },
     "execution_count": 41,
     "metadata": {},
     "output_type": "execute_result"
    }
   ],
   "source": [
    "# Вопрос 2. Какой из фильмов самый длительный (в минутах)?\n",
    "df.sort_values(by='runtime', ascending=False).iloc[0].original_title"
   ],
   "metadata": {
    "collapsed": false,
    "pycharm": {
     "name": "#%%\n"
    }
   }
  },
  {
   "cell_type": "code",
   "execution_count": 43,
   "outputs": [
    {
     "data": {
      "text/plain": "'Winnie the Pooh'"
     },
     "execution_count": 43,
     "metadata": {},
     "output_type": "execute_result"
    }
   ],
   "source": [
    "# Вопрос 3. Какой из фильмов самый короткий (в минутах)?\n",
    "df.sort_values(by='runtime').iloc[0].original_title"
   ],
   "metadata": {
    "collapsed": false,
    "pycharm": {
     "name": "#%%\n"
    }
   }
  },
  {
   "cell_type": "code",
   "execution_count": 47,
   "outputs": [
    {
     "data": {
      "text/plain": "110"
     },
     "execution_count": 47,
     "metadata": {},
     "output_type": "execute_result"
    }
   ],
   "source": [
    "# Вопрос 4. Какова средняя длительность фильмов?\n",
    "round(df.runtime.mean())"
   ],
   "metadata": {
    "collapsed": false,
    "pycharm": {
     "name": "#%%\n"
    }
   }
  },
  {
   "cell_type": "code",
   "execution_count": 52,
   "outputs": [
    {
     "data": {
      "text/plain": "     imdb_id     budget     revenue      original_title  \\\n0  tt0369610  150000000  1513528810      Jurassic World   \n1  tt1392190  150000000   378436354  Mad Max: Fury Road   \n\n                                                cast         director  \\\n0  Chris Pratt|Bryce Dallas Howard|Irrfan Khan|Vi...  Colin Trevorrow   \n1  Tom Hardy|Charlize Theron|Hugh Keays-Byrne|Nic...    George Miller   \n\n              tagline                                           overview  \\\n0   The park is open.  Twenty-two years after the events of Jurassic ...   \n1  What a Lovely Day.  An apocalyptic story set in the furthest reach...   \n\n   runtime                                     genres  \\\n0      124  Action|Adventure|Science Fiction|Thriller   \n1      120  Action|Adventure|Science Fiction|Thriller   \n\n                                production_companies release_date  \\\n0  Universal Studios|Amblin Entertainment|Legenda...     6/9/2015   \n1  Village Roadshow Pictures|Kennedy Miller Produ...    5/13/2015   \n\n   vote_average  release_year  \n0           6.5          2015  \n1           7.1          2015  ",
      "text/html": "<div>\n<style scoped>\n    .dataframe tbody tr th:only-of-type {\n        vertical-align: middle;\n    }\n\n    .dataframe tbody tr th {\n        vertical-align: top;\n    }\n\n    .dataframe thead th {\n        text-align: right;\n    }\n</style>\n<table border=\"1\" class=\"dataframe\">\n  <thead>\n    <tr style=\"text-align: right;\">\n      <th></th>\n      <th>imdb_id</th>\n      <th>budget</th>\n      <th>revenue</th>\n      <th>original_title</th>\n      <th>cast</th>\n      <th>director</th>\n      <th>tagline</th>\n      <th>overview</th>\n      <th>runtime</th>\n      <th>genres</th>\n      <th>production_companies</th>\n      <th>release_date</th>\n      <th>vote_average</th>\n      <th>release_year</th>\n    </tr>\n  </thead>\n  <tbody>\n    <tr>\n      <th>0</th>\n      <td>tt0369610</td>\n      <td>150000000</td>\n      <td>1513528810</td>\n      <td>Jurassic World</td>\n      <td>Chris Pratt|Bryce Dallas Howard|Irrfan Khan|Vi...</td>\n      <td>Colin Trevorrow</td>\n      <td>The park is open.</td>\n      <td>Twenty-two years after the events of Jurassic ...</td>\n      <td>124</td>\n      <td>Action|Adventure|Science Fiction|Thriller</td>\n      <td>Universal Studios|Amblin Entertainment|Legenda...</td>\n      <td>6/9/2015</td>\n      <td>6.5</td>\n      <td>2015</td>\n    </tr>\n    <tr>\n      <th>1</th>\n      <td>tt1392190</td>\n      <td>150000000</td>\n      <td>378436354</td>\n      <td>Mad Max: Fury Road</td>\n      <td>Tom Hardy|Charlize Theron|Hugh Keays-Byrne|Nic...</td>\n      <td>George Miller</td>\n      <td>What a Lovely Day.</td>\n      <td>An apocalyptic story set in the furthest reach...</td>\n      <td>120</td>\n      <td>Action|Adventure|Science Fiction|Thriller</td>\n      <td>Village Roadshow Pictures|Kennedy Miller Produ...</td>\n      <td>5/13/2015</td>\n      <td>7.1</td>\n      <td>2015</td>\n    </tr>\n  </tbody>\n</table>\n</div>"
     },
     "execution_count": 52,
     "metadata": {},
     "output_type": "execute_result"
    }
   ],
   "source": [
    "# Вопрос 5. Каково медианное значение длительности фильмов?\n",
    "round(df.runtime.median())"
   ],
   "metadata": {
    "collapsed": false,
    "pycharm": {
     "name": "#%%\n"
    }
   }
  },
  {
   "cell_type": "code",
   "execution_count": 2,
   "outputs": [],
   "source": [
    "# Добавляем новую feature - столбец profit\n",
    "profit = df.revenue - df.budget\n",
    "df.insert(3, 'profit', profit)"
   ],
   "metadata": {
    "collapsed": false,
    "pycharm": {
     "name": "#%%\n"
    }
   }
  },
  {
   "cell_type": "code",
   "execution_count": 66,
   "outputs": [
    {
     "data": {
      "text/plain": "imdb_id                                                         tt0499549\nbudget                                                          237000000\nrevenue                                                        2781505847\nprofit                                                         2544505847\noriginal_title                                                     Avatar\ncast                    Sam Worthington|Zoe Saldana|Sigourney Weaver|S...\ndirector                                                    James Cameron\ntagline                                       Enter the World of Pandora.\noverview                In the 22nd century, a paraplegic Marine is di...\nruntime                                                               162\ngenres                           Action|Adventure|Fantasy|Science Fiction\nproduction_companies    Ingenious Film Partners|Twentieth Century Fox ...\nrelease_date                                                   12/10/2009\nvote_average                                                          7.1\nrelease_year                                                         2009\nName: 239, dtype: object"
     },
     "execution_count": 66,
     "metadata": {},
     "output_type": "execute_result"
    }
   ],
   "source": [
    "# Вопрос 6. Какой фильм самый прибыльный?\n",
    "df.sort_values(by='profit').iloc[-1]"
   ],
   "metadata": {
    "collapsed": false,
    "pycharm": {
     "name": "#%%\n"
    }
   }
  },
  {
   "cell_type": "code",
   "execution_count": 68,
   "outputs": [
    {
     "data": {
      "text/plain": "imdb_id                                                         tt1210819\nbudget                                                          255000000\nrevenue                                                          89289910\nprofit                                                         -165710090\noriginal_title                                            The Lone Ranger\ncast                    Johnny Depp|Armie Hammer|William Fichtner|Hele...\ndirector                                                   Gore Verbinski\ntagline                                           Never Take Off the Mask\noverview                The Texas Rangers chase down a gang of outlaws...\nruntime                                                               149\ngenres                                           Action|Adventure|Western\nproduction_companies    Walt Disney Pictures|Jerry Bruckheimer Films|I...\nrelease_date                                                     7/3/2013\nvote_average                                                            6\nrelease_year                                                         2013\nName: 1245, dtype: object"
     },
     "execution_count": 68,
     "metadata": {},
     "output_type": "execute_result"
    }
   ],
   "source": [
    "# Вопрос 7. Какой фильм самый убыточный?\n",
    "df.sort_values(by='profit').iloc[0]"
   ],
   "metadata": {
    "collapsed": false,
    "pycharm": {
     "name": "#%%\n"
    }
   }
  },
  {
   "cell_type": "code",
   "execution_count": 71,
   "outputs": [
    {
     "data": {
      "text/plain": "1478"
     },
     "execution_count": 71,
     "metadata": {},
     "output_type": "execute_result"
    }
   ],
   "source": [
    "# Вопрос 8. У скольких фильмов из датасета объем сборов оказался выше бюджета?\n",
    "len(df[df.revenue > df.budget])"
   ],
   "metadata": {
    "collapsed": false,
    "pycharm": {
     "name": "#%%\n"
    }
   }
  },
  {
   "cell_type": "code",
   "execution_count": 79,
   "outputs": [
    {
     "data": {
      "text/plain": "'The Dark Knight'"
     },
     "execution_count": 79,
     "metadata": {},
     "output_type": "execute_result"
    }
   ],
   "source": [
    "# Вопрос 9. Какой фильм оказался самым кассовым в 2008 году?\n",
    "df[df.release_year == 2008].sort_values('profit').iloc[-1].original_title"
   ],
   "metadata": {
    "collapsed": false,
    "pycharm": {
     "name": "#%%\n"
    }
   }
  },
  {
   "cell_type": "code",
   "execution_count": 98,
   "outputs": [
    {
     "data": {
      "text/plain": "'The Lone Ranger'"
     },
     "execution_count": 98,
     "metadata": {},
     "output_type": "execute_result"
    }
   ],
   "source": [
    "# Вопрос 10. Самый убыточный фильм за период с 2012 по 2014 годы (включительно)?\n",
    "df[df.release_year.between(2012, 2014)].sort_values('profit').iloc[0].original_title"
   ],
   "metadata": {
    "collapsed": false,
    "pycharm": {
     "name": "#%%\n"
    }
   }
  },
  {
   "cell_type": "code",
   "execution_count": 3,
   "outputs": [
    {
     "data": {
      "text/plain": "'Drama'"
     },
     "metadata": {},
     "output_type": "display_data"
    },
    {
     "data": {
      "text/plain": "'Drama'"
     },
     "metadata": {},
     "output_type": "display_data"
    }
   ],
   "source": [
    "df = pd.read_csv('./files/unit_1/python-8-movies/movie_bd_v5.csv')\n",
    "profit = df.revenue - df.budget\n",
    "df.insert(3, 'profit', profit)\n",
    "\n",
    "# Вопрос 11. Какого жанра фильмов больше всего?\n",
    "\n",
    "df2 = df\n",
    "\n",
    "# Способ 1: работая только с одной серией genres, через конкатенацию всех строк, сплитом её в лист,\n",
    "# конвертацией листа в серию, подсчетом количества значений в серии\n",
    "\n",
    "# 1. Выделяем серию df2['genres']\n",
    "# 2. Конкатенируем все значения в ней с разделителем = '|' .str.cat(sep='|'), получая мегастроку\n",
    "# 3. Разделяем мегастроку по разделителю, получаем лист .split('|')\n",
    "# 4. Лист конвертируем в серию, чтобы можно было считать pd.Series\n",
    "# 5. Подсчитываем количество вхождений .value_counts()\n",
    "genres_by_count = pd.Series(df2['genres'].str.cat(sep='|').split('|')).value_counts()\n",
    "top_genre = genres_by_count.index[0]\n",
    "display(top_genre)\n",
    "\n",
    "# Способ 2: более продвинутый. Конвертируем строку genres в лист. Разворачиваем (explode) листы в genres, делая\n",
    "# в каждой строке не по листу, а по одному элементу листа. Датафрейм при этом разрастается. УУуу мощь\n",
    "df2.genres = df2['genres'].str.split('|')\n",
    "genres_by_count = df2.explode('genres').groupby('genres').size().sort_values()\n",
    "top_genre = genres_by_count.index[-1]\n",
    "display(top_genre)"
   ],
   "metadata": {
    "collapsed": false,
    "pycharm": {
     "name": "#%%\n"
    }
   }
  },
  {
   "cell_type": "code",
   "execution_count": 434,
   "outputs": [
    {
     "data": {
      "text/plain": "'Drama'"
     },
     "execution_count": 434,
     "metadata": {},
     "output_type": "execute_result"
    }
   ],
   "source": [
    "# Вопрос 12. Фильмы какого жанра чаще всего становятся прибыльными?\n",
    "\n",
    "profitable_genres_by_profit = df2[df2.profit > 0].explode('genres').groupby('genres').size().sort_values()\n",
    "most_profitable_genre = profitable_genres_by_profit.index[-1]\n",
    "most_profitable_genre"
   ],
   "metadata": {
    "collapsed": false,
    "pycharm": {
     "name": "#%%\n"
    }
   }
  },
  {
   "cell_type": "code",
   "execution_count": 4,
   "outputs": [
    {
     "data": {
      "text/plain": "director\nSimon Hunter            2033165\nKeanu Reeves            2054941\nPaul Schrader           2062066\nSteven Shainberg        2281089\nDavid MichÃ´d           2295423\n                        ...    \nJ.J. Abrams          3579169916\nMichael Bay          3886938960\nDavid Yates          4154295625\nChristopher Nolan    4167548502\nPeter Jackson        6490593685\nName: revenue, Length: 997, dtype: int64"
     },
     "execution_count": 4,
     "metadata": {},
     "output_type": "execute_result"
    }
   ],
   "source": [
    "# Вопрос 13. У какого режиссёра самые большие суммарные кассовые сборы?\n",
    "\n",
    "df2.director = df2.director.str.split('|')\n",
    "directors_by_revenue = df2.explode('director').groupby('director').revenue.sum().sort_values()\n",
    "directors_by_revenue"
   ],
   "metadata": {
    "collapsed": false,
    "pycharm": {
     "name": "#%%\n"
    }
   }
  },
  {
   "cell_type": "code",
   "execution_count": 490,
   "outputs": [
    {
     "data": {
      "text/plain": "'Robert Rodriguez'"
     },
     "execution_count": 490,
     "metadata": {},
     "output_type": "execute_result"
    }
   ],
   "source": [
    "# Вопрос 14. Какой режиссер снял больше всего фильмов в стиле Action?\n",
    "most_action_director = df2[df2.genres.apply(lambda x: '|'.join(x)).str.contains('Action')].explode('director').groupby('director').size().sort_values()\n",
    "most_action_director.index[-1]"
   ],
   "metadata": {
    "collapsed": false,
    "pycharm": {
     "name": "#%%\n"
    }
   }
  },
  {
   "cell_type": "code",
   "execution_count": 259,
   "outputs": [],
   "source": [
    "# самые часто снимающиеся актеры, вне задания, потому commented\n",
    "# actors_extracted = df2.cast.str.extract(r'([^|]+)', expand=False)\n",
    "# actors_by_frequency = df2.groupby(actors_extracted).size().reset_index(name='count').sort_values('count')\n",
    "# actors_by_frequency"
   ],
   "metadata": {
    "collapsed": false,
    "pycharm": {
     "name": "#%%\n"
    }
   }
  },
  {
   "cell_type": "code",
   "execution_count": 495,
   "outputs": [
    {
     "data": {
      "text/plain": "<pandas.core.groupby.generic.DataFrameGroupBy object at 0x7fbd1dbab970>"
     },
     "execution_count": 495,
     "metadata": {},
     "output_type": "execute_result"
    }
   ],
   "source": [
    "# Вопрос 15. Фильмы с каким актером принесли самые высокие кассовые сборы в 2012 году?\n",
    "\n",
    "# Способ 1: костылём подпертый, возможно даже и неправильный, но ответ совпал\n",
    "answers = {'Nicolas Cage', 'Tom Hardy', 'Chris Hemsworth', 'Jim Strurgess', 'Emma Stone'}\n",
    "cast_of_most_revenued_movie = set(df2[df2.release_year == 2012].sort_values('revenue', ascending=False).iloc[0].cast.split('|'))\n",
    "\n",
    "matched_actor = []\n",
    "for actor in cast_of_most_revenued_movie:\n",
    "    if actor in answers:\n",
    "        matched_actor.append(actor)\n",
    "\n",
    "matched_actor"
   ],
   "metadata": {
    "collapsed": false,
    "pycharm": {
     "name": "#%%\n"
    }
   }
  },
  {
   "cell_type": "code",
   "execution_count": 5,
   "outputs": [],
   "source": [
    "# Способ 2: православный способ, корректный и чоткий\n",
    "df2.cast = df2.cast.str.split('|')"
   ],
   "metadata": {
    "collapsed": false,
    "pycharm": {
     "name": "#%%\n"
    }
   }
  },
  {
   "cell_type": "code",
   "execution_count": 510,
   "outputs": [
    {
     "data": {
      "text/plain": "'Chris Hemsworth'"
     },
     "execution_count": 510,
     "metadata": {},
     "output_type": "execute_result"
    }
   ],
   "source": [
    "cast_of_most_revenued_movie = df2[df2.release_year == 2012].explode('cast').groupby('cast').revenue.sum().sort_values()\n",
    "matched_actor = cast_of_most_revenued_movie.index[-1]\n",
    "matched_actor"
   ],
   "metadata": {
    "collapsed": false,
    "pycharm": {
     "name": "#%%\n"
    }
   }
  },
  {
   "cell_type": "code",
   "execution_count": 514,
   "outputs": [
    {
     "data": {
      "text/plain": "'Matt Damon'"
     },
     "execution_count": 514,
     "metadata": {},
     "output_type": "execute_result"
    }
   ],
   "source": [
    "# Вопрос 16. Какой актер снялся в большем количестве высокобюджетных фильмов?\n",
    "# Примечание: в фильмах, где бюджет выше среднего по данной выборке.\n",
    "\n",
    "# budget _mean = 54310829.63843303\n",
    "high_budget_films_by_actors = df2[df2.budget > df2.budget.mean()].explode('cast').groupby('cast').size().sort_values()\n",
    "high_budget_films_by_actors.index[-1]"
   ],
   "metadata": {
    "collapsed": false,
    "pycharm": {
     "name": "#%%\n"
    }
   }
  },
  {
   "cell_type": "code",
   "execution_count": 6,
   "outputs": [],
   "source": [
    "# Вопрос 17. В фильмах какого жанра больше всего снимался Nicolas Cage?\n",
    "\n",
    "genres_by_nicolas_cage = df2[df2.cast.apply(lambda x: '|'.join(x)).str.contains('Nicolas Cage')].explode('genres').groupby('genres').size().sort_values()\n",
    "genres_by_nicolas_cage.index[-1]"
   ],
   "metadata": {
    "collapsed": false,
    "pycharm": {
     "name": "#%%\n"
    }
   }
  },
  {
   "cell_type": "code",
   "execution_count": 7,
   "outputs": [],
   "source": [
    "# Вопрос 18. Самый убыточный фильм от Paramount Pictures?\n",
    "\n",
    "df2.production_companies = df2.production_companies.str.split('|')"
   ],
   "metadata": {
    "collapsed": false,
    "pycharm": {
     "name": "#%%\n"
    }
   }
  },
  {
   "cell_type": "code",
   "execution_count": 547,
   "outputs": [
    {
     "data": {
      "text/plain": "'The Lone Ranger'"
     },
     "execution_count": 547,
     "metadata": {},
     "output_type": "execute_result"
    }
   ],
   "source": [
    "# df2\n",
    "less_valuable_movie_by_paramount_pictures = df2[df2.production_companies.apply(lambda x: '|'.join(x)).str.contains('Paramount Pictures')].explode('production_companies').groupby('original_title').profit.min().sort_values()\n",
    "less_valuable_movie_by_paramount_pictures.index[0]"
   ],
   "metadata": {
    "collapsed": false,
    "pycharm": {
     "name": "#%%\n"
    }
   }
  },
  {
   "cell_type": "code",
   "execution_count": 553,
   "outputs": [
    {
     "data": {
      "text/plain": "2015"
     },
     "execution_count": 553,
     "metadata": {},
     "output_type": "execute_result"
    }
   ],
   "source": [
    "# Вопрос 19. Какой год стал самым успешным по суммарным кассовым сборам?\n",
    "\n",
    "years_by_revenue_sum = df2.groupby('release_year').revenue.sum().sort_values()\n",
    "most_valuable_year = years_by_revenue_sum.index[-1]\n",
    "most_valuable_year"
   ],
   "metadata": {
    "collapsed": false,
    "pycharm": {
     "name": "#%%\n"
    }
   }
  },
  {
   "cell_type": "code",
   "execution_count": 557,
   "outputs": [
    {
     "data": {
      "text/plain": "2014"
     },
     "execution_count": 557,
     "metadata": {},
     "output_type": "execute_result"
    }
   ],
   "source": [
    "# Вопрос 20. Какой самый прибыльный год для студии Warner Bros?\n",
    "\n",
    "most_valuable_year_by_warner_bros = df2[df2.production_companies.apply(lambda x: '|'.join(x)).str.contains('Warner Bros')].explode('production_companies').groupby('release_year').profit.sum().sort_values()\n",
    "most_valuable_year_by_warner_bros.index[-1]"
   ],
   "metadata": {
    "collapsed": false,
    "pycharm": {
     "name": "#%%\n"
    }
   }
  },
  {
   "cell_type": "code",
   "execution_count": 6,
   "outputs": [],
   "source": [
    "# Вопрос 21. В каком месяце за все годы суммарно вышло больше всего фильмов?\n",
    "\n",
    "import datetime as dt\n",
    "df2.release_date = pd.to_datetime(df2.release_date)"
   ],
   "metadata": {
    "collapsed": false,
    "pycharm": {
     "name": "#%%\n"
    }
   }
  },
  {
   "cell_type": "code",
   "execution_count": 8,
   "outputs": [
    {
     "ename": "AttributeError",
     "evalue": "Can only use .dt accessor with datetimelike values",
     "output_type": "error",
     "traceback": [
      "\u001B[0;31m---------------------------------------------------------------------------\u001B[0m",
      "\u001B[0;31mAttributeError\u001B[0m                            Traceback (most recent call last)",
      "\u001B[0;32m<ipython-input-8-4da673956d13>\u001B[0m in \u001B[0;36m<module>\u001B[0;34m\u001B[0m\n\u001B[0;32m----> 1\u001B[0;31m \u001B[0mmonths\u001B[0m \u001B[0;34m=\u001B[0m \u001B[0mdf2\u001B[0m\u001B[0;34m.\u001B[0m\u001B[0mrelease_date\u001B[0m\u001B[0;34m.\u001B[0m\u001B[0mdt\u001B[0m\u001B[0;34m.\u001B[0m\u001B[0mmonth\u001B[0m\u001B[0;34m\u001B[0m\u001B[0;34m\u001B[0m\u001B[0m\n\u001B[0m\u001B[1;32m      2\u001B[0m \u001B[0mdf_temp\u001B[0m \u001B[0;34m=\u001B[0m \u001B[0mdf2\u001B[0m\u001B[0;34m.\u001B[0m\u001B[0mcopy\u001B[0m\u001B[0;34m(\u001B[0m\u001B[0;34m)\u001B[0m\u001B[0;34m\u001B[0m\u001B[0;34m\u001B[0m\u001B[0m\n\u001B[1;32m      3\u001B[0m \u001B[0mdf_temp\u001B[0m\u001B[0;34m[\u001B[0m\u001B[0;34m'months'\u001B[0m\u001B[0;34m]\u001B[0m \u001B[0;34m=\u001B[0m \u001B[0mmonths\u001B[0m\u001B[0;34m\u001B[0m\u001B[0;34m\u001B[0m\u001B[0m\n\u001B[1;32m      4\u001B[0m \u001B[0mmovies_amount_by_months\u001B[0m \u001B[0;34m=\u001B[0m \u001B[0mdf_temp\u001B[0m\u001B[0;34m.\u001B[0m\u001B[0mgroupby\u001B[0m\u001B[0;34m(\u001B[0m\u001B[0;34m'months'\u001B[0m\u001B[0;34m)\u001B[0m\u001B[0;34m.\u001B[0m\u001B[0msize\u001B[0m\u001B[0;34m(\u001B[0m\u001B[0;34m)\u001B[0m\u001B[0;34m.\u001B[0m\u001B[0msort_values\u001B[0m\u001B[0;34m(\u001B[0m\u001B[0;34m)\u001B[0m\u001B[0;34m\u001B[0m\u001B[0;34m\u001B[0m\u001B[0m\n\u001B[1;32m      5\u001B[0m \u001B[0mmost_released_month\u001B[0m \u001B[0;34m=\u001B[0m \u001B[0mmovies_amount_by_months\u001B[0m\u001B[0;34m.\u001B[0m\u001B[0mindex\u001B[0m\u001B[0;34m[\u001B[0m\u001B[0;34m-\u001B[0m\u001B[0;36m1\u001B[0m\u001B[0;34m]\u001B[0m\u001B[0;34m\u001B[0m\u001B[0;34m\u001B[0m\u001B[0m\n",
      "\u001B[0;32m~/.conda/envs/pythonProject/lib/python3.8/site-packages/pandas/core/generic.py\u001B[0m in \u001B[0;36m__getattr__\u001B[0;34m(self, name)\u001B[0m\n\u001B[1;32m   5133\u001B[0m             \u001B[0;32mor\u001B[0m \u001B[0mname\u001B[0m \u001B[0;32min\u001B[0m \u001B[0mself\u001B[0m\u001B[0;34m.\u001B[0m\u001B[0m_accessors\u001B[0m\u001B[0;34m\u001B[0m\u001B[0;34m\u001B[0m\u001B[0m\n\u001B[1;32m   5134\u001B[0m         ):\n\u001B[0;32m-> 5135\u001B[0;31m             \u001B[0;32mreturn\u001B[0m \u001B[0mobject\u001B[0m\u001B[0;34m.\u001B[0m\u001B[0m__getattribute__\u001B[0m\u001B[0;34m(\u001B[0m\u001B[0mself\u001B[0m\u001B[0;34m,\u001B[0m \u001B[0mname\u001B[0m\u001B[0;34m)\u001B[0m\u001B[0;34m\u001B[0m\u001B[0;34m\u001B[0m\u001B[0m\n\u001B[0m\u001B[1;32m   5136\u001B[0m         \u001B[0;32melse\u001B[0m\u001B[0;34m:\u001B[0m\u001B[0;34m\u001B[0m\u001B[0;34m\u001B[0m\u001B[0m\n\u001B[1;32m   5137\u001B[0m             \u001B[0;32mif\u001B[0m \u001B[0mself\u001B[0m\u001B[0;34m.\u001B[0m\u001B[0m_info_axis\u001B[0m\u001B[0;34m.\u001B[0m\u001B[0m_can_hold_identifiers_and_holds_name\u001B[0m\u001B[0;34m(\u001B[0m\u001B[0mname\u001B[0m\u001B[0;34m)\u001B[0m\u001B[0;34m:\u001B[0m\u001B[0;34m\u001B[0m\u001B[0;34m\u001B[0m\u001B[0m\n",
      "\u001B[0;32m~/.conda/envs/pythonProject/lib/python3.8/site-packages/pandas/core/accessor.py\u001B[0m in \u001B[0;36m__get__\u001B[0;34m(self, obj, cls)\u001B[0m\n\u001B[1;32m    185\u001B[0m             \u001B[0;31m# we're accessing the attribute of the class, i.e., Dataset.geo\u001B[0m\u001B[0;34m\u001B[0m\u001B[0;34m\u001B[0m\u001B[0;34m\u001B[0m\u001B[0m\n\u001B[1;32m    186\u001B[0m             \u001B[0;32mreturn\u001B[0m \u001B[0mself\u001B[0m\u001B[0;34m.\u001B[0m\u001B[0m_accessor\u001B[0m\u001B[0;34m\u001B[0m\u001B[0;34m\u001B[0m\u001B[0m\n\u001B[0;32m--> 187\u001B[0;31m         \u001B[0maccessor_obj\u001B[0m \u001B[0;34m=\u001B[0m \u001B[0mself\u001B[0m\u001B[0;34m.\u001B[0m\u001B[0m_accessor\u001B[0m\u001B[0;34m(\u001B[0m\u001B[0mobj\u001B[0m\u001B[0;34m)\u001B[0m\u001B[0;34m\u001B[0m\u001B[0;34m\u001B[0m\u001B[0m\n\u001B[0m\u001B[1;32m    188\u001B[0m         \u001B[0;31m# Replace the property with the accessor object. Inspired by:\u001B[0m\u001B[0;34m\u001B[0m\u001B[0;34m\u001B[0m\u001B[0;34m\u001B[0m\u001B[0m\n\u001B[1;32m    189\u001B[0m         \u001B[0;31m# https://www.pydanny.com/cached-property.html\u001B[0m\u001B[0;34m\u001B[0m\u001B[0;34m\u001B[0m\u001B[0;34m\u001B[0m\u001B[0m\n",
      "\u001B[0;32m~/.conda/envs/pythonProject/lib/python3.8/site-packages/pandas/core/indexes/accessors.py\u001B[0m in \u001B[0;36m__new__\u001B[0;34m(cls, data)\u001B[0m\n\u001B[1;32m    478\u001B[0m             \u001B[0;32mreturn\u001B[0m \u001B[0mPeriodProperties\u001B[0m\u001B[0;34m(\u001B[0m\u001B[0mdata\u001B[0m\u001B[0;34m,\u001B[0m \u001B[0morig\u001B[0m\u001B[0;34m)\u001B[0m\u001B[0;34m\u001B[0m\u001B[0;34m\u001B[0m\u001B[0m\n\u001B[1;32m    479\u001B[0m \u001B[0;34m\u001B[0m\u001B[0m\n\u001B[0;32m--> 480\u001B[0;31m         \u001B[0;32mraise\u001B[0m \u001B[0mAttributeError\u001B[0m\u001B[0;34m(\u001B[0m\u001B[0;34m\"Can only use .dt accessor with datetimelike values\"\u001B[0m\u001B[0;34m)\u001B[0m\u001B[0;34m\u001B[0m\u001B[0;34m\u001B[0m\u001B[0m\n\u001B[0m",
      "\u001B[0;31mAttributeError\u001B[0m: Can only use .dt accessor with datetimelike values"
     ]
    }
   ],
   "source": [
    "months = df2.release_date.dt.month\n",
    "df_temp = df2.copy()\n",
    "df_temp['months'] = months\n",
    "movies_amount_by_months = df_temp.groupby('months').size().sort_values()\n",
    "most_released_month = movies_amount_by_months.index[-1]\n",
    "most_released_month"
   ],
   "metadata": {
    "collapsed": false,
    "pycharm": {
     "name": "#%%\n"
    }
   }
  },
  {
   "cell_type": "code",
   "execution_count": 15,
   "outputs": [
    {
     "data": {
      "text/plain": "450"
     },
     "execution_count": 15,
     "metadata": {},
     "output_type": "execute_result"
    }
   ],
   "source": [
    "# Вопрос 22. Сколько суммарно вышло фильмов летом (за июнь, июль, август)?\n",
    "movies_count_by_summer_months = df_temp[df_temp.months.isin([6, 7, 8])]\n",
    "len(movies_count_by_summer_months)"
   ],
   "metadata": {
    "collapsed": false,
    "pycharm": {
     "name": "#%%\n"
    }
   }
  },
  {
   "cell_type": "code",
   "execution_count": 19,
   "outputs": [
    {
     "data": {
      "text/plain": "'Peter Jackson'"
     },
     "execution_count": 19,
     "metadata": {},
     "output_type": "execute_result"
    }
   ],
   "source": [
    "# Вопрос 23. Для какого режиссера зима — самое продуктивное время года?\n",
    "\n",
    "movies_count_by_director_in_winter_months = df_temp[df_temp.months.isin([1, 2, 12])].explode('director').groupby('director').size().sort_values()\n",
    "movies_count_by_director_in_winter_months.index[-1]"
   ],
   "metadata": {
    "collapsed": false,
    "pycharm": {
     "name": "#%%\n"
    }
   }
  },
  {
   "cell_type": "code",
   "execution_count": 92,
   "outputs": [],
   "source": [
    "# prepare dataframe again, from one place\n",
    "df = pd.read_csv('./files/unit_1/python-8-movies/movie_bd_v5.csv')\n",
    "profit = df.revenue - df.budget\n",
    "df.insert(3, 'profit', profit)\n",
    "df.director = df.director.str.split('|')\n",
    "df.cast = df.cast.str.split('|')\n",
    "df.production_companies = df.production_companies.str.split('|')\n",
    "df.release_date = pd.to_datetime(df.release_date)"
   ],
   "metadata": {
    "collapsed": false,
    "pycharm": {
     "name": "#%%\n"
    }
   }
  },
  {
   "cell_type": "code",
   "execution_count": 95,
   "outputs": [
    {
     "data": {
      "text/plain": "production_companies\nGlobal Entertainment Group     2.0\nIxtlan Productions             2.0\nXM2 Productions                2.0\nBerlanti Productions           3.0\nEverest Entertainment          3.0\n                              ... \nPolsky Films                  46.0\nMuseum Canada Productions     46.0\nDos Corazones                 47.0\nJim Henson Company, The       59.0\nFour By Two Productions       83.0\nName: title_length, Length: 1771, dtype: float64"
     },
     "execution_count": 95,
     "metadata": {},
     "output_type": "execute_result"
    }
   ],
   "source": [
    "# Вопрос 24. Какая студия даёт самые длинные названия своим фильмам по количеству символов?\n",
    "\n",
    "title_length = df.original_title.apply(lambda x: len(x))\n",
    "df_with_title_length = df.copy()\n",
    "df_with_title_length['title_length'] = title_length\n",
    "df_with_title_length.explode('production_companies').groupby('production_companies').title_length.mean().sort_values()\n"
   ],
   "metadata": {
    "collapsed": false,
    "pycharm": {
     "name": "#%%\n"
    }
   }
  },
  {
   "cell_type": "code",
   "execution_count": 100,
   "outputs": [
    {
     "data": {
      "text/plain": "production_companies\nMotion Picture Corporation of America     11.0\nEmpire Pictures                           12.0\nProjection Pictures                       13.0\nPhantom Four                              13.0\nLondon Boulevard                          13.0\n                                         ...  \nBrookwell-McNamara Entertainment         160.0\nHeineken Branded Entertainment           163.0\nRoom 9 Entertainment                     169.0\n98 MPH Productions                       170.0\nMidnight Picture Show                    176.0\nName: overview_length, Length: 1771, dtype: float64"
     },
     "execution_count": 100,
     "metadata": {},
     "output_type": "execute_result"
    }
   ],
   "source": [
    "# Вопрос 25. Описания фильмов какой студии в среднем самые длинные по количеству слов?\n",
    "\n",
    "import re\n",
    "overview_length = df['overview'].apply(lambda x: len(re.findall(r'\\w+', x)))\n",
    "df_with_overview_length = df.copy()\n",
    "df_with_overview_length['overview_length'] = overview_length\n",
    "df_with_overview_length.explode('production_companies').groupby('production_companies').overview_length.mean().sort_values()"
   ],
   "metadata": {
    "collapsed": false,
    "pycharm": {
     "name": "#%%\n"
    }
   }
  },
  {
   "cell_type": "code",
   "execution_count": 68,
   "outputs": [
    {
     "data": {
      "text/plain": "['Inside Out', 'The Dark Knight', '12 Years a Slave']"
     },
     "execution_count": 68,
     "metadata": {},
     "output_type": "execute_result"
    }
   ],
   "source": [
    "# Вопрос 26. Какие фильмы входят в один процент лучших по рейтингу?\n",
    "answers_group_1 = ['Inside Out', 'The Dark Knight', '12 Years a Slave']\n",
    "answers_group_2 = ['BloodRayne', 'The Adventures of Rocky & Bullwinkle']\n",
    "answers_group_3 = ['Batman Begins', 'The Lord of the Rings: The Return of the King', 'Upside Down']\n",
    "answers_group_4 = ['300', 'Lucky Number Slevin', 'Kill Bill: Vol. 1']\n",
    "answers_group_5 = ['Upside Down', 'Inside Out', 'Iron Man']\n",
    "\n",
    "answers = []\n",
    "answers.append(answers_group_1)\n",
    "answers.append(answers_group_2)\n",
    "answers.append(answers_group_3)\n",
    "answers.append(answers_group_4)\n",
    "answers.append(answers_group_5)\n",
    "\n",
    "top_films = df[df['vote_average'] > df['vote_average'].quantile(0.99)].sort_values(by='vote_average').original_title.values\n",
    "\n",
    "matched_group = []\n",
    "for group in answers:\n",
    "    counter = 0\n",
    "    for top_film in top_films:\n",
    "        if top_film in group:\n",
    "            counter += 1\n",
    "    if counter == len(group):\n",
    "        matched_group = group\n",
    "        break\n",
    "\n",
    "matched_group"
   ],
   "metadata": {
    "collapsed": false,
    "pycharm": {
     "name": "#%%\n"
    }
   }
  },
  {
   "cell_type": "code",
   "execution_count": 89,
   "outputs": [
    {
     "data": {
      "text/plain": "{'group_3': 29, 'group_4': 39, 'group_5': 52, 'group_2': 18, 'group_1': 6}"
     },
     "execution_count": 89,
     "metadata": {},
     "output_type": "execute_result"
    }
   ],
   "source": [
    "# Вопрос 27. Какие актеры чаще всего снимаются в одном фильме вместе?\n",
    "\n",
    "import re\n",
    "\n",
    "cast_answers = {\n",
    "    'group_1': ['Johnny Depp', 'Helena Bonham Carter'],\n",
    "    'group_2': ['Ben Stiller', 'Owen Wilson'],\n",
    "    'group_3': ['Vin Diesel', 'Paul Walker'],\n",
    "    'group_4': ['Adam Sandler', 'Kevin James'],\n",
    "    'group_5': ['Daniel Radcliffe', 'Rupert Grint'],\n",
    "}\n",
    "\n",
    "matched = {}\n",
    "\n",
    "for row in df.cast.iteritems():\n",
    "    actor_list = row[1]\n",
    "    counter = 0\n",
    "    for group_name, group_values in cast_answers.items():\n",
    "        for actor in group_values:\n",
    "            if actor in actor_list:\n",
    "                counter += 1\n",
    "\n",
    "            if counter == len(group_values):\n",
    "                if group_name in matched:\n",
    "                    matched[group_name] += 1\n",
    "                else:\n",
    "                    matched[group_name] = 1\n",
    "\n",
    "matched"
   ],
   "metadata": {
    "collapsed": false,
    "pycharm": {
     "name": "#%%\n"
    }
   }
  }
 ],
 "metadata": {
  "kernelspec": {
   "display_name": "Python 3",
   "language": "python",
   "name": "python3"
  },
  "language_info": {
   "codemirror_mode": {
    "name": "ipython",
    "version": 2
   },
   "file_extension": ".py",
   "mimetype": "text/x-python",
   "name": "python",
   "nbconvert_exporter": "python",
   "pygments_lexer": "ipython2",
   "version": "2.7.6"
  }
 },
 "nbformat": 4,
 "nbformat_minor": 0
}