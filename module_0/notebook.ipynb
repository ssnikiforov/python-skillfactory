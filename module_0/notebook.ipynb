{
 "cells": [
  {
   "cell_type": "code",
   "execution_count": 1,
   "metadata": {
    "collapsed": true
   },
   "outputs": [
    {
     "name": "stdout",
     "output_type": "stream",
     "text": [
      "Ваш алгоритм угадывает число в среднем за 101 попыток\n",
      "Ваш алгоритм угадывает число в среднем за 33 попыток\n",
      "Ваш алгоритм угадывает число в среднем за 5 попыток\n"
     ]
    },
    {
     "data": {
      "text/plain": "5"
     },
     "execution_count": 1,
     "metadata": {},
     "output_type": "execute_result"
    }
   ],
   "source": [
    "import numpy as np\n",
    "\n",
    "def score_game(game_core):\n",
    "    \"\"\"Запускаем игру 1000 раз, чтобы узнать, как быстро игра угадывает число\"\"\"\n",
    "    count_ls = []\n",
    "    np.random.seed(1)  # фиксируем RANDOM SEED, чтобы ваш эксперимент был воспроизводим!\n",
    "    random_array = np.random.randint(1, 101, size=1000)\n",
    "    for number in random_array:\n",
    "        count_ls.append(game_core(number))\n",
    "    score = int(np.mean(count_ls))\n",
    "    print(f\"Ваш алгоритм угадывает число в среднем за {score} попыток\")\n",
    "    return score\n",
    "\n",
    "def game_core_v1(number):\n",
    "    \"\"\"Просто угадываем на random, никак не используя информацию о больше или меньше.\n",
    "       Функция принимает загаданное число и возвращает число попыток\"\"\"\n",
    "    count = 0\n",
    "    while True:\n",
    "        count += 1\n",
    "        predict = np.random.randint(1, 101) # предполагаемое число\n",
    "        if number == predict:\n",
    "            return count # выход из цикла, если угадали\n",
    "\n",
    "def game_core_v2(number):\n",
    "    \"\"\"Сначала устанавливаем любое random число, а потом уменьшаем или увеличиваем его в зависимости от того, больше оно или меньше нужного.\n",
    "       Функция принимает загаданное число и возвращает число попыток\"\"\"\n",
    "    count = 1\n",
    "    predict = np.random.randint(1, 101)\n",
    "    while number != predict:\n",
    "        count += 1\n",
    "        if number > predict:\n",
    "            predict += 1\n",
    "        elif number < predict:\n",
    "            predict -= 1\n",
    "    return count # выход из цикла, если угадали\n",
    "\n",
    "def game_core_v3(number):\n",
    "    \"\"\"Функция находит загаданное число используя бинарный поиск (ну это я так думаю, что он бинарный)\"\"\"\n",
    "    count = 1\n",
    "    predict = get_random_by_custom_range(1,101)\n",
    "    while number != predict:\n",
    "        count += 1\n",
    "        if predict > number:\n",
    "            predict = get_random_by_custom_range(number, predict)\n",
    "        else:\n",
    "            predict = get_random_by_custom_range(predict, number)\n",
    "\n",
    "    return count\n",
    "\n",
    "def get_random_by_custom_range(min_range, max_range):\n",
    "    \"\"\"Вспомогательная функция для вызова рандомизатора с кастомным диапазоном чисел\"\"\"\n",
    "    return np.random.randint(min_range, max_range + 1)\n",
    "\n",
    "\n",
    "# запускаем\n",
    "score_game(game_core_v1)\n",
    "score_game(game_core_v2)\n",
    "score_game(game_core_v3)"
   ]
  }
 ],
 "metadata": {
  "kernelspec": {
   "display_name": "Python 3",
   "language": "python",
   "name": "python3"
  },
  "language_info": {
   "codemirror_mode": {
    "name": "ipython",
    "version": 2
   },
   "file_extension": ".py",
   "mimetype": "text/x-python",
   "name": "python",
   "nbconvert_exporter": "python",
   "pygments_lexer": "ipython2",
   "version": "2.7.6"
  }
 },
 "nbformat": 4,
 "nbformat_minor": 0
}